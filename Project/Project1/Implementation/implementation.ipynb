{
 "cells": [
  {
   "cell_type": "code",
   "execution_count": 9,
   "metadata": {},
   "outputs": [],
   "source": [
    "# Code Space for MATH280 Proj. 1"
   ]
  },
  {
   "cell_type": "code",
   "execution_count": 10,
   "metadata": {},
   "outputs": [],
   "source": [
    "# Import needed python module for file reading\n",
    "import os"
   ]
  },
  {
   "cell_type": "code",
   "execution_count": 11,
   "metadata": {},
   "outputs": [],
   "source": [
    "def extract_tones_from_file(file_path):\n",
    "    \"\"\"\n",
    "    Read a text file and extract tones from numbered pinyin syllables.\n",
    "    Each tone is represented as an integer (1-5) based on the numbered pinyin syllables.\n",
    "    \"\"\"\n",
    "    tones = []\n",
    "    if not os.path.exists(file_path):\n",
    "        print(f\"File {file_path} not found. Please check the file path and try again.\")\n",
    "        return []\n",
    "\n",
    "    with open(file_path, 'r', encoding='utf-8') as file:\n",
    "        for line in file:\n",
    "            line_tones = [int(word[-1]) for word in line.split() if word[-1].isdigit()]\n",
    "            tones.append(line_tones)\n",
    "    return tones"
   ]
  },
  {
   "cell_type": "code",
   "execution_count": 12,
   "metadata": {},
   "outputs": [],
   "source": [
    "import sage.all as sa\n",
    "def construct_markov_matrix(tones_list, num_states=5):\n",
    "    \"\"\"\n",
    "    Create a SageMath Markov matrix for a given list of tone sequences.\n",
    "    The matrix is normalized to represent transition probabilities.\n",
    "    \"\"\"\n",
    "    transition_counts = sa.Matrix(sa.SR, num_states, num_states, 0)\n",
    "\n",
    "    # Count transitions based on tone sequences\n",
    "    for tones in tones_list:\n",
    "        for i in range(len(tones) - 1):\n",
    "            current_tone = tones[i] - 1\n",
    "            next_tone = tones[i + 1] - 1\n",
    "            transition_counts[current_tone, next_tone] += 1\n",
    "\n",
    "    # Normalize the matrix rows to get transition probabilities\n",
    "    for i in range(num_states):\n",
    "        row_sum = sum(transition_counts[i, j] for j in range(num_states))\n",
    "        if row_sum > 0:\n",
    "            for j in range(num_states):\n",
    "                transition_counts[i, j] /= row_sum\n",
    "\n",
    "    return transition_counts\n",
    "\n",
    "'''\n",
    "def construct_markov_matrix(tones_list, num_states=5):\n",
    "    transition_counts = sa.Matrix(sa.SR, num_states, num_states, 1)  # Laplace smoothing (start with 1)\n",
    "\n",
    "    # Count transitions\n",
    "    for tones in tones_list:\n",
    "        for i in range(len(tones) - 1):\n",
    "            current_tone = tones[i] - 1\n",
    "            next_tone = tones[i + 1] - 1\n",
    "            transition_counts[current_tone, next_tone] += 1\n",
    "\n",
    "    # Normalize rows to get probabilities\n",
    "    for i in range(num_states):\n",
    "        row_sum = sum(transition_counts[i, j] for j in range(num_states))\n",
    "        if row_sum > 0:\n",
    "            for j in range(num_states):\n",
    "                transition_counts[i, j] /= row_sum\n",
    "\n",
    "    return transition_counts\n",
    "'''"
   ]
  },
  {
   "cell_type": "code",
   "execution_count": 13,
   "metadata": {},
   "outputs": [],
   "source": [
    "from sage.all import log\n",
    "def compute_log_likelihood(matrix, test_tones):\n",
    "    \"\"\"\n",
    "    Calculate the log-likelihood of a sequence of tones given a SageMath Markov matrix.\n",
    "    \"\"\"\n",
    "    log_likelihood = 0\n",
    "    for i in range(len(test_tones) - 1):\n",
    "        current_state = test_tones[i] - 1\n",
    "        next_state = test_tones[i + 1] - 1\n",
    "        probability = matrix[current_state, next_state]\n",
    "        if probability > 0:\n",
    "            log_likelihood += log(probability)\n",
    "        else:\n",
    "            log_likelihood += float('-inf')  # Log(0) is -infinity\n",
    "    return log_likelihood\n"
   ]
  },
  {
   "cell_type": "code",
   "execution_count": 14,
   "metadata": {},
   "outputs": [],
   "source": [
    "def guess_author(test_tones_list, matrix_zhu, matrix_du):\n",
    "    total_likelihood_zhu = sum(compute_log_likelihood(matrix_zhu, tones) for tones in test_tones_list)\n",
    "    total_likelihood_du = sum(compute_log_likelihood(matrix_du, tones) for tones in test_tones_list)\n",
    "    \n",
    "    print(f\"Total log-likelihood for Zhu Shuzhen: {total_likelihood_zhu}\")\n",
    "    print(f\"Total log-likelihood for Du Fu: {total_likelihood_du}\")\n",
    "\n",
    "    if total_likelihood_zhu > total_likelihood_du:\n",
    "        return \"Zhu Shuzhen\"\n",
    "    else:\n",
    "        return \"Du Fu\""
   ]
  },
  {
   "cell_type": "code",
   "execution_count": 15,
   "metadata": {},
   "outputs": [],
   "source": [
    "def display_markov_matrix(matrix):\n",
    "    \"\"\"\n",
    "    Print the Markov matrix in a formatted way.\n",
    "    \"\"\"\n",
    "    print(\"Markov Matrix (5-tone system):\")\n",
    "    print(matrix)"
   ]
  },
  {
   "cell_type": "code",
   "execution_count": 16,
   "metadata": {},
   "outputs": [],
   "source": [
    "zsz_file = \"zsz.txt\"  # Zhu Shuzhen's text\n",
    "df_file = \"df.txt\"    # Du Fu's text\n",
    "\n",
    "# Extract tones from both files\n",
    "zsz_tones = extract_tones_from_file(zsz_file)\n",
    "df_tones = extract_tones_from_file(df_file)\n",
    "\n",
    "# Ensure both files were read correctly\n",
    "if not zsz_tones or not df_tones:\n",
    "    print(\"Failed to read tones from one or both input files. Exiting.\")\n",
    "    exit()"
   ]
  },
  {
   "cell_type": "code",
   "execution_count": 17,
   "metadata": {},
   "outputs": [
    {
     "name": "stdout",
     "output_type": "stream",
     "text": [
      "Zhu Shuzhen's Markov Matrix:\n",
      "[58/191 47/191 29/191 57/191      0]\n",
      "[53/157 40/157 22/157 42/157      0]\n",
      "[35/104 27/104   2/13    1/4      0]\n",
      "[ 11/40   7/25 27/200 31/100      0]\n",
      "[     0      0      0      0      1]\n",
      "\n",
      "Du Fu's Markov Matrix:\n",
      "[52/155 87/310 23/155 73/310      0]\n",
      "[ 11/35 37/140   7/40 69/280      0]\n",
      "[54/161 41/161 17/161   7/23      0]\n",
      "[ 23/79 74/237  14/79 52/237      0]\n",
      "[     0      0      0      0      1]\n",
      "Total log-likelihood for Zhu Shuzhen: 2*log(53/157) + 2*log(35/104) + 3*log(58/191) + 3*log(57/191) + log(7/25) + log(11/40) + log(27/104) + log(40/157) + log(47/191) + 2*log(29/191) + log(27/200)\n",
      "Total log-likelihood for Du Fu: 3*log(52/155) + 2*log(54/161) + 2*log(11/35) + log(74/237) + log(23/79) + log(87/310) + log(37/140) + log(41/161) + 3*log(73/310) + log(14/79) + 2*log(23/155)\n",
      "\n",
      "Predicted author for Zhu Shuzhen's test tones:  Zhu Shuzhen\n",
      "Total log-likelihood for Zhu Shuzhen: 2*log(53/157) + 2*log(35/104) + log(31/100) + 3*log(58/191) + 2*log(57/191) + 2*log(11/40) + log(42/157) + 4*log(47/191) + log(22/157)\n",
      "Total log-likelihood for Du Fu: 3*log(52/155) + 2*log(54/161) + 2*log(11/35) + 2*log(23/79) + 4*log(87/310) + log(69/280) + 2*log(73/310) + log(52/237) + log(7/40)\n",
      "Predicted author for Du Fu's test tones:  Du Fu\n"
     ]
    }
   ],
   "source": [
    "matrix_zhu = construct_markov_matrix(zsz_tones)\n",
    "matrix_du = construct_markov_matrix(df_tones)\n",
    "\n",
    "print(\"Zhu Shuzhen's Markov Matrix:\")\n",
    "print(matrix_zhu)\n",
    "print(\"\\nDu Fu's Markov Matrix:\")\n",
    "print(matrix_du)\n",
    "\n",
    "test_tones_zsz = zsz_tones[:3]  # Use the first 3 sequences from Zhu Shuzhen's text\n",
    "test_tones_df = df_tones[:3]    # Use the first 3 sequences from Du Fu's text\n",
    "\n",
    "# Predict authorship based on multiple test sequences\n",
    "print(\"\\nPredicted author for Zhu Shuzhen's test tones: \", guess_author(test_tones_zsz, matrix_zhu, matrix_du))\n",
    "print(\"Predicted author for Du Fu's test tones: \", guess_author(test_tones_df, matrix_zhu, matrix_du))"
   ]
  }
 ],
 "metadata": {
  "kernelspec": {
   "display_name": "sage",
   "language": "python",
   "name": "python3"
  },
  "language_info": {
   "codemirror_mode": {
    "name": "ipython",
    "version": 3
   },
   "file_extension": ".py",
   "mimetype": "text/x-python",
   "name": "python",
   "nbconvert_exporter": "python",
   "pygments_lexer": "ipython3",
   "version": "3.11.10"
  }
 },
 "nbformat": 4,
 "nbformat_minor": 2
}
