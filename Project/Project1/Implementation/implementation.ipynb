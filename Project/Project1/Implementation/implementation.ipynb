{
 "cells": [
  {
   "cell_type": "code",
   "execution_count": 1,
   "metadata": {},
   "outputs": [],
   "source": [
    "### Code Space for MATH280 Proj. 1 ###"
   ]
  },
  {
   "cell_type": "code",
   "execution_count": 2,
   "metadata": {},
   "outputs": [],
   "source": [
    "# Import needed python module for file reading\n",
    "import os"
   ]
  },
  {
   "cell_type": "code",
   "execution_count": 3,
   "metadata": {},
   "outputs": [],
   "source": [
    "def extract_tones_from_file(file_path):\n",
    "    \"\"\"\n",
    "    Read a text file and extract tones from numbered pinyin syllables.\n",
    "    Each tone is represented as an integer (1-5) based on numbered pinyin syllables.\n",
    "    \"\"\"\n",
    "    tones = []\n",
    "    if not os.path.exists(file_path):\n",
    "        print(f\"File {file_path} not found. Please check the file path and try again.\")\n",
    "        return []\n",
    "\n",
    "    with open(file_path, 'r', encoding='utf-8') as file:\n",
    "        for line in file:\n",
    "            line_tones = [int(word[-1]) for word in line.split() if word[-1].isdigit()]\n",
    "            tones.append(line_tones)\n",
    "    return tones"
   ]
  },
  {
   "cell_type": "markdown",
   "metadata": {},
   "source": [
    "## Strategy 1: Log-likelihood Calculation"
   ]
  },
  {
   "cell_type": "code",
   "execution_count": 4,
   "metadata": {},
   "outputs": [
    {
     "data": {
      "text/plain": [
       "'\\ndef construct_markov_matrix(tones_list, num_states=5):\\n    transition_counts = sa.Matrix(sa.SR, num_states, num_states, 1)  # Laplace smoothing (start with 1)\\n\\n    # Initialize with zeros\\n    transition_counts = sa.Matrix(sa.SR, num_states, num_states, 0)  \\n\\n    for tones in tones_list:\\n        for i in range(len(tones) - 1):\\n            current_tone = tones[i] - 1  # Adjusting to 0-based index\\n            next_tone = tones[i + 1] - 1  # Adjusting to 0-based index\\n            transition_counts[current_tone, next_tone] += 1\\n\\n    for i in range(num_states):\\n        row_sum = sum(transition_counts[i, j] for j in range(num_states))\\n        if row_sum > 0:\\n            for j in range(num_states):\\n                transition_counts[i, j] /= row_sum  # Normalize the row\\n\\n    return transition_counts\\n'"
      ]
     },
     "execution_count": 4,
     "metadata": {},
     "output_type": "execute_result"
    }
   ],
   "source": [
    "import sage.all as sa\n",
    "def construct_markov_matrix(tones_list, num_states=5):\n",
    "    \"\"\"\n",
    "    Create a SageMath Markov matrix for a given list of tone sequences.\n",
    "    NOTE: The matrix is normalized so that each row sums to 1, which is a bit differ to out definition in the class\n",
    "    \"\"\"\n",
    "    # Initialize with zeros\n",
    "    transition_counts = sa.Matrix(sa.SR, num_states, num_states, 0)  \n",
    "\n",
    "    for tones in tones_list:\n",
    "        for i in range(len(tones) - 1):\n",
    "            current_tone = tones[i] - 1  # Adjusting to 0-based index\n",
    "            next_tone = tones[i + 1] - 1  \n",
    "            transition_counts[current_tone, next_tone] += 1\n",
    "\n",
    "    for i in range(num_states):\n",
    "        row_sum = sum(transition_counts[i, j] for j in range(num_states))\n",
    "        if row_sum > 0:\n",
    "            for j in range(num_states):\n",
    "                transition_counts[i, j] /= row_sum  # Normalize the row\n",
    "\n",
    "    return transition_counts\n",
    "\n",
    "# Refined Version adding Laplace Smoothing for better performance in prediction\n",
    "'''\n",
    "def construct_markov_matrix(tones_list, num_states=5):\n",
    "    transition_counts = sa.Matrix(sa.SR, num_states, num_states, 1)  # Laplace smoothing (start with 1)\n",
    "\n",
    "    # Initialize with zeros\n",
    "    transition_counts = sa.Matrix(sa.SR, num_states, num_states, 0)  \n",
    "\n",
    "    for tones in tones_list:\n",
    "        for i in range(len(tones) - 1):\n",
    "            current_tone = tones[i] - 1  # Adjusting to 0-based index\n",
    "            next_tone = tones[i + 1] - 1  # Adjusting to 0-based index\n",
    "            transition_counts[current_tone, next_tone] += 1\n",
    "\n",
    "    for i in range(num_states):\n",
    "        row_sum = sum(transition_counts[i, j] for j in range(num_states))\n",
    "        if row_sum > 0:\n",
    "            for j in range(num_states):\n",
    "                transition_counts[i, j] /= row_sum  # Normalize the row\n",
    "\n",
    "    return transition_counts\n",
    "'''"
   ]
  },
  {
   "cell_type": "code",
   "execution_count": 5,
   "metadata": {},
   "outputs": [],
   "source": [
    "# Strategy 1 - Calculating the Log-liklihood of Markov Matrices\n",
    "\n",
    "from sage.all import log\n",
    "def compute_log_likelihood(matrix, test_tones):\n",
    "    \"\"\"\n",
    "    Calculate the log-likelihood of a sequence of tones given a SageMath Markov matrix.\n",
    "    \"\"\"\n",
    "    log_likelihood = 0\n",
    "    for i in range(len(test_tones) - 1):\n",
    "        current_state = test_tones[i] - 1\n",
    "        next_state = test_tones[i + 1] - 1\n",
    "        probability = matrix[current_state, next_state]\n",
    "        if probability > 0:\n",
    "            log_likelihood += log(probability)\n",
    "        else:\n",
    "            # Log(0) is -infinity\n",
    "            log_likelihood += float('-inf')  \n",
    "    return log_likelihood\n"
   ]
  },
  {
   "cell_type": "code",
   "execution_count": 6,
   "metadata": {},
   "outputs": [],
   "source": [
    "def guess_author(test_tones_list, matrix_zhu, matrix_du):\n",
    "    total_likelihood_zhu = sum(compute_log_likelihood(matrix_zhu, tones) for tones in test_tones_list)\n",
    "    total_likelihood_du = sum(compute_log_likelihood(matrix_du, tones) for tones in test_tones_list)\n",
    "    \n",
    "    print(f\"Total log-likelihood for Zhu Shuzhen: {total_likelihood_zhu}\")\n",
    "    print(f\"Total log-likelihood for Du Fu: {total_likelihood_du}\")\n",
    "\n",
    "    if total_likelihood_zhu > total_likelihood_du:\n",
    "        return \"Zhu Shuzhen\"\n",
    "    else:\n",
    "        return \"Du Fu\""
   ]
  },
  {
   "cell_type": "code",
   "execution_count": 10,
   "metadata": {},
   "outputs": [],
   "source": [
    "def display_markov_matrix(matrix):\n",
    "    \"\"\"\n",
    "    Print the Markov matrix in formatted way.\n",
    "    \"\"\"\n",
    "    print(\"Markov Matrix (5-tone system):\")\n",
    "    print(matrix)"
   ]
  },
  {
   "cell_type": "code",
   "execution_count": 22,
   "metadata": {},
   "outputs": [
    {
     "name": "stdout",
     "output_type": "stream",
     "text": [
      "Zhu Shuzhen's Markov Matrix:\n",
      "[57/200 47/169  29/93  19/62      0]\n",
      "[53/200   3/13  22/93   7/31      0]\n",
      "[  7/40 27/169   5/31  13/93      0]\n",
      "[ 11/40 56/169   9/31 61/186      0]\n",
      "[     0      0      0      0      0]\n",
      "\n",
      "Du Fu's Markov Matrix:\n",
      "[103/314  87/275  46/153  73/242       0]\n",
      "[ 44/157  73/275  49/153  69/242       0]\n",
      "[ 27/157  41/275  16/153  49/242       0]\n",
      "[ 69/314  74/275   14/51  51/242       0]\n",
      "[      0       0       0       0       0]\n",
      "Total log-likelihood for Zhu Shuzhen: 6*log(56/169) + 6*log(61/186) + 4*log(29/93) + 12*log(19/62) + 4*log(9/31) + 10*log(57/200) + 8*log(47/169) + 15*log(11/40) + 7*log(53/200) + 3*log(22/93) + 6*log(3/13) + 6*log(7/31) + 3*log(7/40) + 2*log(5/31) + 4*log(27/169) + 6*log(13/93)\n",
      "Total log-likelihood for Du Fu: 10*log(103/314) + 3*log(49/153) + 8*log(87/275) + 12*log(73/242) + 4*log(46/153) + 6*log(69/242) + 7*log(44/157) + 4*log(14/51) + 6*log(74/275) + 6*log(73/275) + 15*log(69/314) + 6*log(51/242) + 6*log(49/242) + 3*log(27/157) + 4*log(41/275) + 2*log(16/153)\n",
      "\n",
      "Predicted author for Zhu Shuzhen's test tones:  Zhu Shuzhen\n",
      "Total log-likelihood for Zhu Shuzhen: 6*log(56/169) + 5*log(61/186) + 2*log(29/93) + 8*log(19/62) + 5*log(9/31) + 11*log(57/200) + 18*log(47/169) + 7*log(11/40) + 9*log(53/200) + 7*log(22/93) + 3*log(3/13) + 9*log(7/31) + 10*log(7/40) + log(5/31) + 4*log(27/169) + 3*log(13/93)\n",
      "Total log-likelihood for Du Fu: 11*log(103/314) + 7*log(49/153) + 18*log(87/275) + 8*log(73/242) + 2*log(46/153) + 9*log(69/242) + 9*log(44/157) + 5*log(14/51) + 6*log(74/275) + 3*log(73/275) + 7*log(69/314) + 5*log(51/242) + 3*log(49/242) + 10*log(27/157) + 4*log(41/275) + log(16/153)\n",
      "Predicted author for Du Fu's test tones:  Du Fu\n"
     ]
    }
   ],
   "source": [
    "# Test Case:\n",
    " \n",
    "zsz_file = \"zsz.txt\"\n",
    "df_file = \"df.txt\"\n",
    "\n",
    "zsz_tones = extract_tones_from_file(zsz_file)\n",
    "df_tones = extract_tones_from_file(df_file)\n",
    "\n",
    "matrix_zhu = construct_markov_matrix(zsz_tones)\n",
    "matrix_du = construct_markov_matrix(df_tones)\n",
    "\n",
    "print(\"Zhu Shuzhen's Markov Matrix:\")\n",
    "print(matrix_zhu)\n",
    "print(\"\\nDu Fu's Markov Matrix:\")\n",
    "print(matrix_du)\n",
    "\n",
    "test_tones_zsz = zsz_tones[:20]  \n",
    "test_tones_df = df_tones[:20]   \n",
    "\n",
    "# Predict authorship based on multiple test sequences\n",
    "print(\"\\nPredicted author for Zhu Shuzhen's test tones: \", guess_author(test_tones_zsz, matrix_zhu, matrix_du))\n",
    "print(\"Predicted author for Du Fu's test tones: \", guess_author(test_tones_df, matrix_zhu, matrix_du))"
   ]
  },
  {
   "cell_type": "code",
   "execution_count": 8,
   "metadata": {},
   "outputs": [],
   "source": [
    "# Formal Test Case Implementation\n"
   ]
  },
  {
   "cell_type": "markdown",
   "metadata": {},
   "source": [
    "## Strategy 2: Cosine Similarity Calculation"
   ]
  },
  {
   "cell_type": "code",
   "execution_count": 13,
   "metadata": {},
   "outputs": [],
   "source": [
    "import sage.all as sa\n",
    "\n",
    "# Markov Matrix Implementation that the SUM of column matrix summed up to 1\n",
    "def construct_markov_matrix(tones_list, num_states=5):\n",
    "    transition_counts = sa.Matrix(sa.SR, num_states, num_states) \n",
    "\n",
    "    for tones in tones_list:\n",
    "        for i in range(len(tones) - 1):\n",
    "            current_tone = tones[i] - 1  # Convert tone to zero-based index\n",
    "            next_tone = tones[i + 1] - 1\n",
    "            transition_counts[current_tone, next_tone] += 1\n",
    "\n",
    "    # Normalize each column to sum to 1\n",
    "    for j in range(num_states):\n",
    "        col_sum = sum(transition_counts[i, j] for i in range(num_states))\n",
    "        if col_sum > 0:\n",
    "            for i in range(num_states):\n",
    "                transition_counts[i, j] /= col_sum\n",
    "\n",
    "    return transition_counts\n",
    "\n",
    "# Compute the Equilibrium Vector\n",
    "import numpy as np\n",
    "\n",
    "def equilibrium_vector(matrix):\n",
    "    \"\"\"\n",
    "    Compute the equilibrium vector using NumPy for numerical stability.\n",
    "    \"\"\"\n",
    "    # Convert SageMath matrix to NumPy array\n",
    "    matrix_np = np.array(matrix, dtype=float)\n",
    "\n",
    "    eigenvalues, eigenvectors = np.linalg.eig(matrix_np)\n",
    "\n",
    "    # Find the eigenvector corresponding to the eigenvalue closest to 1\n",
    "    idx = np.argmin(np.abs(eigenvalues - 1))\n",
    "\n",
    "    equilibrium_vec = np.real(eigenvectors[:, idx])\n",
    "    equilibrium_vec /= equilibrium_vec.sum()\n",
    "\n",
    "    return equilibrium_vec"
   ]
  },
  {
   "cell_type": "code",
   "execution_count": 14,
   "metadata": {},
   "outputs": [],
   "source": [
    "import sage.all as sa\n",
    "\n",
    "# Define Cosine Similarity\n",
    "def cosine_similarity(vec1, vec2):\n",
    "    vec1, vec2 = sa.vector(vec1), sa.vector(vec2)\n",
    "    return vec1.dot_product(vec2) / (vec1.norm() * vec2.norm())\n",
    "\n",
    "# Define Euclidean Distance\n",
    "def euclidean_distance(vec1, vec2):\n",
    "    return (sa.vector(vec1) - sa.vector(vec2)).norm()\n",
    "\n",
    "# Define Weighted Score Calculation\n",
    "# FIXME: ABORTED TRY\n",
    "def weighted_score(cos_sim, dist, alpha=0.5, beta=0.5):\n",
    "    return alpha * cos_sim + beta * (1 / (1 + dist))"
   ]
  },
  {
   "cell_type": "code",
   "execution_count": 15,
   "metadata": {},
   "outputs": [],
   "source": [
    "# Author Prediction Calculation\n",
    "def predict_author(test_vector, vec_zhu, vec_du):\n",
    "    \"\"\"\n",
    "    Predict author using cosine similarity and Euclidean distance\n",
    "    between the test vector and the poets' equilibrium vectors separately.\n",
    "    \"\"\"\n",
    "    cos_sim_zhu = cosine_similarity(test_vector, vec_zhu)\n",
    "    cos_sim_du = cosine_similarity(test_vector, vec_du)\n",
    "\n",
    "    dist_zhu = euclidean_distance(test_vector, vec_zhu)\n",
    "    dist_du = euclidean_distance(test_vector, vec_du)\n",
    "\n",
    "\n",
    "    print(f\"Cosine Similarity with Zhu Shuzhen: {cos_sim_zhu}\")\n",
    "    print(f\"Cosine Similarity with Du Fu: {cos_sim_du}\")\n",
    "    print(f\"Euclidean Distance to Zhu Shuzhen: {dist_zhu}\")\n",
    "    print(f\"Euclidean Distance to Du Fu: {dist_du}\")\n",
    "\n",
    "    # Predict using both similarity and distance independently\n",
    "    cos_prediction = \"Zhu Shuzhen\" if cos_sim_zhu > cos_sim_du else \"Du Fu\"\n",
    "    dist_prediction = \"Zhu Shuzhen\" if dist_zhu < dist_du else \"Du Fu\"\n",
    "\n",
    "    return cos_prediction, dist_prediction"
   ]
  },
  {
   "cell_type": "code",
   "execution_count": 16,
   "metadata": {},
   "outputs": [],
   "source": [
    "# Debug Usage Tool Base \n",
    "\n",
    "def debug_matrix(matrix, name=\"Markov Matrix\"):\n",
    "\n",
    "    print(f\"\\n{name}:\")\n",
    "    print(matrix)\n",
    "    print(f\"Column sums: {[sum(matrix.column(j)) for j in range(matrix.ncols())]}\")\n",
    "    try:\n",
    "        eigenvalues = matrix.eigenvalues()\n",
    "        print(f\"Eigenvalues: {eigenvalues}\")\n",
    "    except Exception as e:\n",
    "        print(f\"Error computing eigenvalues: {e}\")"
   ]
  },
  {
   "cell_type": "code",
   "execution_count": 21,
   "metadata": {},
   "outputs": [
    {
     "name": "stdout",
     "output_type": "stream",
     "text": [
      "\n",
      "Zhu Shuzhen's Markov Matrix:\n",
      "[57/200 47/169  29/93  19/62      0]\n",
      "[53/200   3/13  22/93   7/31      0]\n",
      "[  7/40 27/169   5/31  13/93      0]\n",
      "[ 11/40 56/169   9/31 61/186      0]\n",
      "[     0      0      0      0      0]\n",
      "Column sums: [1, 1, 1, 1, 0]\n",
      "Eigenvalues: [-1/1450800*(900*sqrt(117109835103492073)*sqrt(130) + 3501358455997)^(1/3)*(I*sqrt(3) + 1) + 41631431/1450800*(-I*sqrt(3) + 1)/(900*sqrt(117109835103492073)*sqrt(130) + 3501358455997)^(1/3) + 1213/725400, -1/1450800*(900*sqrt(117109835103492073)*sqrt(130) + 3501358455997)^(1/3)*(-I*sqrt(3) + 1) + 41631431/1450800*(I*sqrt(3) + 1)/(900*sqrt(117109835103492073)*sqrt(130) + 3501358455997)^(1/3) + 1213/725400, 1/725400*(900*sqrt(117109835103492073)*sqrt(130) + 3501358455997)^(1/3) - 41631431/725400/(900*sqrt(117109835103492073)*sqrt(130) + 3501358455997)^(1/3) + 1213/725400, 1, 0]\n",
      "\n",
      "Du Fu's Markov Matrix:\n",
      "[103/314  87/275  46/153  73/242       0]\n",
      "[ 44/157  73/275  49/153  69/242       0]\n",
      "[ 27/157  41/275  16/153  49/242       0]\n",
      "[ 69/314  74/275   14/51  51/242       0]\n",
      "[      0       0       0       0       0]\n",
      "Column sums: [1, 1, 1, 1, 0]\n",
      "Eigenvalues: [-1/871962300*(59451975*sqrt(346018751526005953203981017) + 1830920369425363455101)^(1/3)*(I*sqrt(3) + 1) - 32162449095694/217990575*(-I*sqrt(3) + 1)/(59451975*sqrt(346018751526005953203981017) + 1830920369425363455101)^(1/3) - 6626987/217990575, -1/871962300*(59451975*sqrt(346018751526005953203981017) + 1830920369425363455101)^(1/3)*(-I*sqrt(3) + 1) - 32162449095694/217990575*(I*sqrt(3) + 1)/(59451975*sqrt(346018751526005953203981017) + 1830920369425363455101)^(1/3) - 6626987/217990575, 1/435981150*(59451975*sqrt(346018751526005953203981017) + 1830920369425363455101)^(1/3) + 64324898191388/217990575/(59451975*sqrt(346018751526005953203981017) + 1830920369425363455101)^(1/3) - 6626987/217990575, 1, 0]\n",
      "\n",
      "Predicted author for Zhu Shuzhen's test tones:\n",
      "Cosine Similarity with Zhu Shuzhen: 0.9957655310799903\n",
      "Cosine Similarity with Du Fu: 0.9829425515401654\n",
      "Euclidean Distance to Zhu Shuzhen: 0.048189408347052154\n",
      "Euclidean Distance to Du Fu: 0.09582799253252247\n",
      "Cosine Similarity Prediction: Zhu Shuzhen\n",
      "Euclidean Distance Prediction: Zhu Shuzhen\n",
      "\n",
      "Predicted author for Du Fu's test tones:\n",
      "Cosine Similarity with Zhu Shuzhen: 0.9772365410769844\n",
      "Cosine Similarity with Du Fu: 0.9958879756926242\n",
      "Euclidean Distance to Zhu Shuzhen: 0.11016590075306289\n",
      "Euclidean Distance to Du Fu: 0.0470484668028332\n",
      "Cosine Similarity Prediction: Du Fu\n",
      "Euclidean Distance Prediction: Du Fu\n"
     ]
    },
    {
     "data": {
      "text/plain": [
       "'\\n# Paths for input texts\\nzsz_file = \"zsz.txt\"\\ndf_file = \"df.txt\"\\n\\n# Extract tones from both files\\nzsz_tones = extract_tones_from_file(zsz_file)\\ndf_tones = extract_tones_from_file(df_file)\\n\\nfiltered_zsz_tones = [seq for seq in zsz_tones if seq]\\nfiltered_df_tones = [seq for seq in df_tones if seq]\\n\\nmatrix_zhu = construct_markov_matrix(filtered_zsz_tones)\\nmatrix_du = construct_markov_matrix(filtered_df_tones)\\n\\ndebug_matrix(matrix_zhu, \"Zhu Shuzhen\\'s Markov Matrix\")\\ndebug_matrix(matrix_du, \"Du Fu\\'s Markov Matrix\")\\n\\n# Compute equilibrium vectors using the NumPy-based method\\ntry:\\n    vec_zhu = equilibrium_vector(matrix_zhu)\\n    vec_du = equilibrium_vector(matrix_du)\\nexcept ValueError as e:\\n    print(f\"Error computing equilibrium vector: {e}\")\\n    exit()\\n\\n# Multiple Sequences Prediction\\nprint(\"\\nPredicted author for Zhu Shuzhen\\'s test tones:\",\\n      predict_author(filtered_zsz_tones[:3], vec_zhu, vec_du))\\nprint(\"Predicted author for Du Fu\\'s test tones:\",\\n      predict_author(filtered_df_tones[:3], vec_zhu, vec_du))\\n\\n# Single Sequence Prediction\\nprint(\"\\nPredicted author for a single Zhu Shuzhen sequence:\",\\n      predict_author([filtered_zsz_tones[0]], vec_zhu, vec_du))\\nprint(\"Predicted author for a single Du Fu sequence:\",\\n      predict_author([filtered_df_tones[0]], vec_zhu, vec_du))\\n'"
      ]
     },
     "execution_count": 21,
     "metadata": {},
     "output_type": "execute_result"
    }
   ],
   "source": [
    "# Sample Test Case\n",
    "\n",
    "zsz_file = \"zsz.txt\"\n",
    "df_file = \"df.txt\"\n",
    "\n",
    "zsz_tones = extract_tones_from_file(zsz_file)\n",
    "df_tones = extract_tones_from_file(df_file)\n",
    "\n",
    "filtered_zsz_tones = [seq for seq in zsz_tones if seq]\n",
    "filtered_df_tones = [seq for seq in df_tones if seq]\n",
    "\n",
    "matrix_zhu = construct_markov_matrix(filtered_zsz_tones)\n",
    "matrix_du = construct_markov_matrix(filtered_df_tones)\n",
    "\n",
    "debug_matrix(matrix_zhu, \"Zhu Shuzhen's Markov Matrix\")\n",
    "debug_matrix(matrix_du, \"Du Fu's Markov Matrix\")\n",
    "\n",
    "try:\n",
    "    vec_zhu = equilibrium_vector(matrix_zhu)\n",
    "    vec_du = equilibrium_vector(matrix_du)\n",
    "except ValueError as e:\n",
    "    print(f\"Error computing equilibrium vector: {e}\")\n",
    "    exit()\n",
    "\n",
    "test_vector_zsz = equilibrium_vector(construct_markov_matrix(zsz_tones[:20]))\n",
    "test_vector_df = equilibrium_vector(construct_markov_matrix(df_tones[:20]))\n",
    "\n",
    "print(\"\\nPredicted author for Zhu Shuzhen's test tones:\")\n",
    "cos_pred, dist_pred = predict_author(test_vector_zsz, vec_zhu, vec_du)\n",
    "print(f\"Cosine Similarity Prediction: {cos_pred}\")\n",
    "print(f\"Euclidean Distance Prediction: {dist_pred}\")\n",
    "\n",
    "print(\"\\nPredicted author for Du Fu's test tones:\")\n",
    "cos_pred, dist_pred = predict_author(test_vector_df, vec_zhu, vec_du)\n",
    "print(f\"Cosine Similarity Prediction: {cos_pred}\")\n",
    "print(f\"Euclidean Distance Prediction: {dist_pred}\")\n",
    "\n",
    "'''\n",
    "# Paths for input texts\n",
    "zsz_file = \"zsz.txt\"\n",
    "df_file = \"df.txt\"\n",
    "\n",
    "# Extract tones from both files\n",
    "zsz_tones = extract_tones_from_file(zsz_file)\n",
    "df_tones = extract_tones_from_file(df_file)\n",
    "\n",
    "filtered_zsz_tones = [seq for seq in zsz_tones if seq]\n",
    "filtered_df_tones = [seq for seq in df_tones if seq]\n",
    "\n",
    "matrix_zhu = construct_markov_matrix(filtered_zsz_tones)\n",
    "matrix_du = construct_markov_matrix(filtered_df_tones)\n",
    "\n",
    "debug_matrix(matrix_zhu, \"Zhu Shuzhen's Markov Matrix\")\n",
    "debug_matrix(matrix_du, \"Du Fu's Markov Matrix\")\n",
    "\n",
    "# Compute equilibrium vectors using the NumPy-based method\n",
    "try:\n",
    "    vec_zhu = equilibrium_vector(matrix_zhu)\n",
    "    vec_du = equilibrium_vector(matrix_du)\n",
    "except ValueError as e:\n",
    "    print(f\"Error computing equilibrium vector: {e}\")\n",
    "    exit()\n",
    "\n",
    "# Multiple Sequences Prediction\n",
    "print(\"\\nPredicted author for Zhu Shuzhen's test tones:\",\n",
    "      predict_author(filtered_zsz_tones[:3], vec_zhu, vec_du))\n",
    "print(\"Predicted author for Du Fu's test tones:\",\n",
    "      predict_author(filtered_df_tones[:3], vec_zhu, vec_du))\n",
    "\n",
    "# Single Sequence Prediction\n",
    "print(\"\\nPredicted author for a single Zhu Shuzhen sequence:\",\n",
    "      predict_author([filtered_zsz_tones[0]], vec_zhu, vec_du))\n",
    "print(\"Predicted author for a single Du Fu sequence:\",\n",
    "      predict_author([filtered_df_tones[0]], vec_zhu, vec_du))\n",
    "'''"
   ]
  },
  {
   "cell_type": "code",
   "execution_count": 23,
   "metadata": {},
   "outputs": [
    {
     "name": "stdout",
     "output_type": "stream",
     "text": [
      "Equilibrium Vector for Zhu Shuzhen's Matrix:\n",
      "[ 0.29418287  0.24023142  0.15834941  0.3072363  -0.        ]\n",
      "Equilibrium Vector for Du Fu's Matrix:\n",
      "[0.31394412 0.28370395 0.16190486 0.24044708 0.        ]\n"
     ]
    }
   ],
   "source": [
    "print(\"Equilibrium Vector for Zhu Shuzhen's Matrix:\")\n",
    "print(vec_zhu)\n",
    "print(\"Equilibrium Vector for Du Fu's Matrix:\")\n",
    "print(vec_du)"
   ]
  },
  {
   "cell_type": "code",
   "execution_count": 24,
   "metadata": {},
   "outputs": [
    {
     "name": "stdout",
     "output_type": "stream",
     "text": [
      "Zhu Shuzhen's Markov Matrix:\n",
      "[57/200 47/169  29/93  19/62      0]\n",
      "[53/200   3/13  22/93   7/31      0]\n",
      "[  7/40 27/169   5/31  13/93      0]\n",
      "[ 11/40 56/169   9/31 61/186      0]\n",
      "[     0      0      0      0      0]\n",
      "Du Fu's Markov Matrix:\n",
      "[103/314  87/275  46/153  73/242       0]\n",
      "[ 44/157  73/275  49/153  69/242       0]\n",
      "[ 27/157  41/275  16/153  49/242       0]\n",
      "[ 69/314  74/275   14/51  51/242       0]\n",
      "[      0       0       0       0       0]\n"
     ]
    }
   ],
   "source": [
    "print(\"Zhu Shuzhen's Markov Matrix:\")\n",
    "print(matrix_zhu)\n",
    "print(\"Du Fu's Markov Matrix:\")\n",
    "print(matrix_du)"
   ]
  },
  {
   "cell_type": "code",
   "execution_count": 20,
   "metadata": {},
   "outputs": [],
   "source": [
    "# Formal Test Case Implementaion: "
   ]
  }
 ],
 "metadata": {
  "kernelspec": {
   "display_name": "sage",
   "language": "python",
   "name": "python3"
  },
  "language_info": {
   "codemirror_mode": {
    "name": "ipython",
    "version": 3
   },
   "file_extension": ".py",
   "mimetype": "text/x-python",
   "name": "python",
   "nbconvert_exporter": "python",
   "pygments_lexer": "ipython3",
   "version": "3.11.10"
  }
 },
 "nbformat": 4,
 "nbformat_minor": 2
}
