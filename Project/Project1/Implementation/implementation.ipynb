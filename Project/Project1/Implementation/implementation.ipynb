{
 "cells": [
  {
   "cell_type": "code",
   "execution_count": 1,
   "metadata": {},
   "outputs": [],
   "source": [
    "# Code Space for MATH280 Proj. 1"
   ]
  },
  {
   "cell_type": "code",
   "execution_count": 2,
   "metadata": {},
   "outputs": [],
   "source": [
    "import os"
   ]
  },
  {
   "cell_type": "code",
   "execution_count": 3,
   "metadata": {},
   "outputs": [],
   "source": [
    "def extract_tones_from_file(file_path):\n",
    "    \"\"\"\n",
    "    Read a text file and extract tones from numbered pinyin syllables.\n",
    "    Each tone is represented as an integer (1-5) based on the numbered pinyin syllables.\n",
    "    \"\"\"\n",
    "    tones = []\n",
    "    if not os.path.exists(file_path):\n",
    "        print(f\"File {file_path} not found. Please check the file path and try again.\")\n",
    "        return []\n",
    "\n",
    "    with open(file_path, 'r', encoding='utf-8') as file:\n",
    "        for line in file:\n",
    "            line_tones = [int(word[-1]) for word in line.split() if word[-1].isdigit()]\n",
    "            tones.append(line_tones)\n",
    "    return tones"
   ]
  },
  {
   "cell_type": "code",
   "execution_count": 4,
   "metadata": {},
   "outputs": [],
   "source": [
    "import sage.all as sa\n",
    "def construct_markov_matrix(tones_list, num_states=5):\n",
    "    \"\"\"\n",
    "    Create a SageMath Markov matrix for a given list of tone sequences.\n",
    "    The matrix is normalized to represent transition probabilities.\n",
    "    \"\"\"\n",
    "    # Initialize a num_states x num_states matrix with all entries set to zero\n",
    "    transition_counts = sa.Matrix(sa.SR, num_states, num_states, 0)  # SageMath Matrix initialization\n",
    "\n",
    "    # Count transitions based on tone sequences\n",
    "    for tones in tones_list:\n",
    "        for i in range(len(tones) - 1):\n",
    "            current_tone = tones[i] - 1\n",
    "            next_tone = tones[i + 1] - 1\n",
    "            transition_counts[current_tone, next_tone] += 1\n",
    "\n",
    "    # Normalize the matrix rows to get transition probabilities\n",
    "    for i in range(num_states):\n",
    "        row_sum = sum(transition_counts[i, j] for j in range(num_states))\n",
    "        if row_sum > 0:\n",
    "            for j in range(num_states):\n",
    "                transition_counts[i, j] /= row_sum\n",
    "\n",
    "    return transition_counts"
   ]
  },
  {
   "cell_type": "code",
   "execution_count": 5,
   "metadata": {},
   "outputs": [],
   "source": [
    "from sage.all import log\n",
    "def compute_log_likelihood(matrix, test_tones):\n",
    "    \"\"\"\n",
    "    Calculate the log-likelihood of a sequence of tones given a SageMath Markov matrix.\n",
    "    \"\"\"\n",
    "    log_likelihood = 0\n",
    "    for i in range(len(test_tones) - 1):\n",
    "        current_state = test_tones[i] - 1\n",
    "        next_state = test_tones[i + 1] - 1\n",
    "        probability = matrix[current_state, next_state]\n",
    "        if probability > 0:\n",
    "            log_likelihood += log(probability)\n",
    "        else:\n",
    "            log_likelihood += float('-inf')  # Log(0) is -infinity\n",
    "    return log_likelihood"
   ]
  },
  {
   "cell_type": "code",
   "execution_count": 6,
   "metadata": {},
   "outputs": [],
   "source": [
    "def guess_author(test_tones, matrix_zhu, matrix_du):\n",
    "    \"\"\"\n",
    "    Guess the author based on the log-likelihood of the test tones under each author's Markov matrix.\n",
    "    \"\"\"\n",
    "    likelihood_zhu = compute_log_likelihood(matrix_zhu, test_tones)\n",
    "    likelihood_du = compute_log_likelihood(matrix_du, test_tones)\n",
    "    \n",
    "    if likelihood_zhu > likelihood_du:\n",
    "        return \"Zhu Shuzhen\"\n",
    "    else:\n",
    "        return \"Du Fu\""
   ]
  },
  {
   "cell_type": "code",
   "execution_count": 7,
   "metadata": {},
   "outputs": [],
   "source": [
    "def display_markov_matrix(matrix):\n",
    "    \"\"\"\n",
    "    Print the Markov matrix in a formatted way.\n",
    "    \"\"\"\n",
    "    print(\"Markov Matrix (5-tone system):\")\n",
    "    print(matrix)"
   ]
  },
  {
   "cell_type": "code",
   "execution_count": 8,
   "metadata": {},
   "outputs": [
    {
     "name": "stdout",
     "output_type": "stream",
     "text": [
      "Markov Matrix (5-tone system):\n",
      "[ 17/57  14/57   3/19  17/57      0]\n",
      "[  7/23  25/92   7/46   6/23   1/92]\n",
      "[ 17/62   8/31   5/31  19/62      0]\n",
      "[  4/13   3/13 17/117 37/117      0]\n",
      "[     1      0      0      0      0]\n"
     ]
    }
   ],
   "source": [
    "# Set the file path for the input text\n",
    "zsz_file = \"zsz.txt\"  # Ensure that `zsz.txt` is in the same directory as this script.\n",
    "\n",
    "# Step 1: Extract tones from the `zsz.txt` file\n",
    "zsz_tones = extract_tones_from_file(zsz_file)\n",
    "if not zsz_tones:\n",
    "    print(f\"Failed to read tones from {zsz_file}. Exiting the script.\")\n",
    "    exit()\n",
    "\n",
    "# Step 2: Construct the Markov matrix for Zhu Shuzhen's text\n",
    "matrix_zhu = construct_markov_matrix(zsz_tones)\n",
    "\n",
    "# Step 3: Display the matrix\n",
    "display_markov_matrix(matrix_zhu)"
   ]
  }
 ],
 "metadata": {
  "kernelspec": {
   "display_name": "SageMath 10.4",
   "language": "sage",
   "name": "sagemath"
  },
  "language_info": {
   "codemirror_mode": {
    "name": "ipython",
    "version": 3
   },
   "file_extension": ".py",
   "mimetype": "text/x-python",
   "name": "python",
   "nbconvert_exporter": "python",
   "pygments_lexer": "ipython3",
   "version": "3.11.10"
  }
 },
 "nbformat": 4,
 "nbformat_minor": 2
}
