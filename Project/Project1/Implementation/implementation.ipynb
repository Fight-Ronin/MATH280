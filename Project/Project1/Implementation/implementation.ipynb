{
 "cells": [
  {
   "cell_type": "code",
   "execution_count": 10,
   "metadata": {},
   "outputs": [],
   "source": [
    "### Code Space for MATH280 Proj. 1 ###"
   ]
  },
  {
   "cell_type": "code",
   "execution_count": 11,
   "metadata": {},
   "outputs": [],
   "source": [
    "# Import needed python module for file reading\n",
    "import os"
   ]
  },
  {
   "cell_type": "code",
   "execution_count": 12,
   "metadata": {},
   "outputs": [],
   "source": [
    "def extract_tones_from_file(file_path):\n",
    "    \"\"\"\n",
    "    Read a text file and extract tones from numbered pinyin syllables.\n",
    "    Each tone is represented as an integer (1-5) based on numbered pinyin syllables.\n",
    "    \"\"\"\n",
    "    tones = []\n",
    "    if not os.path.exists(file_path):\n",
    "        print(f\"File {file_path} not found. Please check the file path and try again.\")\n",
    "        return []\n",
    "\n",
    "    with open(file_path, 'r', encoding='utf-8') as file:\n",
    "        for line in file:\n",
    "            line_tones = [int(word[-1]) for word in line.split() if word[-1].isdigit()]\n",
    "            tones.append(line_tones)\n",
    "    return tones"
   ]
  },
  {
   "cell_type": "code",
   "execution_count": 13,
   "metadata": {},
   "outputs": [
    {
     "data": {
      "text/plain": [
       "'\\ndef construct_markov_matrix(tones_list, num_states=5):\\n    transition_counts = sa.Matrix(sa.SR, num_states, num_states, 1)  # Laplace smoothing (start with 1)\\n\\n    # Initialize with zeros\\n    transition_counts = sa.Matrix(sa.SR, num_states, num_states, 0)  \\n\\n    for tones in tones_list:\\n        for i in range(len(tones) - 1):\\n            current_tone = tones[i] - 1  # Adjusting to 0-based index\\n            next_tone = tones[i + 1] - 1  # Adjusting to 0-based index\\n            transition_counts[current_tone, next_tone] += 1\\n\\n    for i in range(num_states):\\n        row_sum = sum(transition_counts[i, j] for j in range(num_states))\\n        if row_sum > 0:\\n            for j in range(num_states):\\n                transition_counts[i, j] /= row_sum  # Normalize the row\\n\\n    return transition_counts\\n'"
      ]
     },
     "execution_count": 13,
     "metadata": {},
     "output_type": "execute_result"
    }
   ],
   "source": [
    "import sage.all as sa\n",
    "def construct_markov_matrix(tones_list, num_states=5):\n",
    "    \"\"\"\n",
    "    Create a SageMath Markov matrix for a given list of tone sequences.\n",
    "    NOTE: The matrix is normalized so that each row sums to 1, which is a bit differ to out definition in the class\n",
    "    \"\"\"\n",
    "    # Initialize with zeros\n",
    "    transition_counts = sa.Matrix(sa.SR, num_states, num_states, 0)  \n",
    "\n",
    "    for tones in tones_list:\n",
    "        for i in range(len(tones) - 1):\n",
    "            current_tone = tones[i] - 1  # Adjusting to 0-based index\n",
    "            next_tone = tones[i + 1] - 1  # Adjusting to 0-based index\n",
    "            transition_counts[current_tone, next_tone] += 1\n",
    "\n",
    "    for i in range(num_states):\n",
    "        row_sum = sum(transition_counts[i, j] for j in range(num_states))\n",
    "        if row_sum > 0:\n",
    "            for j in range(num_states):\n",
    "                transition_counts[i, j] /= row_sum  # Normalize the row\n",
    "\n",
    "    return transition_counts\n",
    "\n",
    "# Refined Version adding Laplace Smoothing for better performance in prediction\n",
    "'''\n",
    "def construct_markov_matrix(tones_list, num_states=5):\n",
    "    transition_counts = sa.Matrix(sa.SR, num_states, num_states, 1)  # Laplace smoothing (start with 1)\n",
    "\n",
    "    # Initialize with zeros\n",
    "    transition_counts = sa.Matrix(sa.SR, num_states, num_states, 0)  \n",
    "\n",
    "    for tones in tones_list:\n",
    "        for i in range(len(tones) - 1):\n",
    "            current_tone = tones[i] - 1  # Adjusting to 0-based index\n",
    "            next_tone = tones[i + 1] - 1  # Adjusting to 0-based index\n",
    "            transition_counts[current_tone, next_tone] += 1\n",
    "\n",
    "    for i in range(num_states):\n",
    "        row_sum = sum(transition_counts[i, j] for j in range(num_states))\n",
    "        if row_sum > 0:\n",
    "            for j in range(num_states):\n",
    "                transition_counts[i, j] /= row_sum  # Normalize the row\n",
    "\n",
    "    return transition_counts\n",
    "'''"
   ]
  },
  {
   "cell_type": "code",
   "execution_count": 14,
   "metadata": {},
   "outputs": [],
   "source": [
    "from sage.all import log\n",
    "def compute_log_likelihood(matrix, test_tones):\n",
    "    \"\"\"\n",
    "    Calculate the log-likelihood of a sequence of tones given a SageMath Markov matrix.\n",
    "    \"\"\"\n",
    "    from sage.all import log  # SageMath log function\n",
    "    log_likelihood = 0\n",
    "    for i in range(len(test_tones) - 1):\n",
    "        current_state = test_tones[i] - 1\n",
    "        next_state = test_tones[i + 1] - 1\n",
    "        probability = matrix[current_state, next_state]\n",
    "        if probability > 0:\n",
    "            log_likelihood += log(probability)\n",
    "        else:\n",
    "            log_likelihood += float('-inf')  # Log(0) is -infinity\n",
    "    return log_likelihood\n"
   ]
  },
  {
   "cell_type": "code",
   "execution_count": 15,
   "metadata": {},
   "outputs": [],
   "source": [
    "def guess_author(test_tones_list, matrix_zhu, matrix_du):\n",
    "    total_likelihood_zhu = sum(compute_log_likelihood(matrix_zhu, tones) for tones in test_tones_list)\n",
    "    total_likelihood_du = sum(compute_log_likelihood(matrix_du, tones) for tones in test_tones_list)\n",
    "    \n",
    "    print(f\"Total log-likelihood for Zhu Shuzhen: {total_likelihood_zhu}\")\n",
    "    print(f\"Total log-likelihood for Du Fu: {total_likelihood_du}\")\n",
    "\n",
    "    if total_likelihood_zhu > total_likelihood_du:\n",
    "        return \"Zhu Shuzhen\"\n",
    "    else:\n",
    "        return \"Du Fu\""
   ]
  },
  {
   "cell_type": "code",
   "execution_count": 16,
   "metadata": {},
   "outputs": [],
   "source": [
    "def display_markov_matrix(matrix):\n",
    "    \"\"\"\n",
    "    Print the Markov matrix in formatted way.\n",
    "    \"\"\"\n",
    "    print(\"Markov Matrix (5-tone system):\")\n",
    "    print(matrix)"
   ]
  },
  {
   "cell_type": "code",
   "execution_count": 17,
   "metadata": {},
   "outputs": [],
   "source": [
    "zsz_file = \"zsz.txt\"  # Zhu Shuzhen's text\n",
    "df_file = \"df.txt\"    # Du Fu's text\n",
    "\n",
    "zsz_tones = extract_tones_from_file(zsz_file)\n",
    "df_tones = extract_tones_from_file(df_file)\n",
    "\n",
    "if not zsz_tones or not df_tones:\n",
    "    print(\"Failed to read tones from one or both input files. Exiting.\")\n",
    "    exit()"
   ]
  },
  {
   "cell_type": "code",
   "execution_count": 18,
   "metadata": {},
   "outputs": [
    {
     "name": "stdout",
     "output_type": "stream",
     "text": [
      "Zhu Shuzhen's Markov Matrix:\n",
      "[  3/10 47/190 29/190   3/10      0]\n",
      "[53/156    1/4  11/78   7/26      0]\n",
      "[35/103 27/103 15/103 26/103      0]\n",
      "[55/199 56/199 27/199 61/199      0]\n",
      "[     0      0      0      0      0]\n",
      "\n",
      "Du Fu's Markov Matrix:\n",
      "[   1/3 29/103 46/309 73/309      0]\n",
      "[88/279 73/279 49/279  23/93      0]\n",
      "[ 27/80 41/160   1/10 49/160      0]\n",
      "[69/236 37/118 21/118 51/236      0]\n",
      "[     0      0      0      0      0]\n",
      "Total log-likelihood for Zhu Shuzhen: 2*log(35/103) + 2*log(53/156) + 6*log(3/10) + log(56/199) + log(55/199) + log(27/103) + log(1/4) + log(47/190) + 2*log(29/190) + log(27/199)\n",
      "Total log-likelihood for Du Fu: 2*log(27/80) + 3*log(1/3) + 2*log(88/279) + log(37/118) + log(69/236) + log(29/103) + log(73/279) + log(41/160) + 3*log(73/309) + log(21/118) + 2*log(46/309)\n",
      "\n",
      "Predicted author for Zhu Shuzhen's test tones:  Zhu Shuzhen\n",
      "Total log-likelihood for Zhu Shuzhen: 2*log(35/103) + 2*log(53/156) + log(61/199) + 5*log(3/10) + 2*log(55/199) + log(7/26) + 4*log(47/190) + log(11/78)\n",
      "Total log-likelihood for Du Fu: 2*log(27/80) + 3*log(1/3) + 2*log(88/279) + 2*log(69/236) + 4*log(29/103) + log(23/93) + 2*log(73/309) + log(51/236) + log(49/279)\n",
      "Predicted author for Du Fu's test tones:  Du Fu\n"
     ]
    }
   ],
   "source": [
    "matrix_zhu = construct_markov_matrix(zsz_tones)\n",
    "matrix_du = construct_markov_matrix(df_tones)\n",
    "\n",
    "print(\"Zhu Shuzhen's Markov Matrix:\")\n",
    "print(matrix_zhu)\n",
    "print(\"\\nDu Fu's Markov Matrix:\")\n",
    "print(matrix_du)\n",
    "\n",
    "test_tones_zsz = zsz_tones[:3]  # Use the first 3 sequences from Zhu Shuzhen's text\n",
    "test_tones_df = df_tones[:3]    # Use the first 3 sequences from Du Fu's text\n",
    "\n",
    "# Predict authorship based on multiple test sequences\n",
    "print(\"\\nPredicted author for Zhu Shuzhen's test tones: \", guess_author(test_tones_zsz, matrix_zhu, matrix_du))\n",
    "print(\"Predicted author for Du Fu's test tones: \", guess_author(test_tones_df, matrix_zhu, matrix_du))"
   ]
  }
 ],
 "metadata": {
  "kernelspec": {
   "display_name": "sage",
   "language": "python",
   "name": "python3"
  },
  "language_info": {
   "codemirror_mode": {
    "name": "ipython",
    "version": 3
   },
   "file_extension": ".py",
   "mimetype": "text/x-python",
   "name": "python",
   "nbconvert_exporter": "python",
   "pygments_lexer": "ipython3",
   "version": "3.11.10"
  }
 },
 "nbformat": 4,
 "nbformat_minor": 2
}
